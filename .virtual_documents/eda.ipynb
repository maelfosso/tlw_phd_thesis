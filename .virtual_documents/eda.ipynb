import pandas as pd


tenders = pd.read_csv('data/List of Calls for Tenders and Consultations.csv', encoding = "ISO-8859-1")
tenders.head()


tenders.describe()


tenders.isna().sum()


tenders.shape


tenders.drop(["Unnamed: 5", "Unnamed: 6", "Unnamed: 9", "Unnamed: 12"], axis=1)




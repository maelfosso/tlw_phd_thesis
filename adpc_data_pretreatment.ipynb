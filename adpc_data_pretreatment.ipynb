{
 "cells": [
  {
   "cell_type": "markdown",
   "id": "51c41792-5282-4aad-a247-5f68b403cb72",
   "metadata": {},
   "source": [
    "# Data pretreatment from one file"
   ]
  },
  {
   "cell_type": "markdown",
   "id": "a7cc99b2-6697-432b-9c98-e261860932a3",
   "metadata": {},
   "source": [
    "We are going to use `boiler_226.csv` to go through the different pretreatment process in order to obtain at the end a data that can be used to test the `ADPC` algorithm\n",
    "\n",
    "The result will be saved into `datasets/pretreated` folder with the same name."
   ]
  },
  {
   "cell_type": "code",
   "execution_count": 1,
   "id": "29f2d45c-6983-4bfb-9722-576622c0723b",
   "metadata": {},
   "outputs": [],
   "source": [
    "import os\n",
    "file_name = 'boiler_226.csv'\n",
    "datasets_path = \"./datasets/raw/\"\n",
    "full_path = os.path.join(datasets_path, file_name)"
   ]
  },
  {
   "cell_type": "code",
   "execution_count": 2,
   "id": "e5de333f-f50d-4a87-a4dd-7c59a92c80ce",
   "metadata": {},
   "outputs": [],
   "source": [
    "import pandas as pd\n",
    "boiler_data = pd.read_csv(full_path, parse_dates=True,index_col='timestamp') # Remplacer la colonne des index par celle de 'timestamp'"
   ]
  },
  {
   "cell_type": "code",
   "execution_count": 3,
   "id": "fe70375b-25c1-4485-98ef-8ac1afb00f54",
   "metadata": {},
   "outputs": [
    {
     "data": {
      "text/html": [
       "<div>\n",
       "<style scoped>\n",
       "    .dataframe tbody tr th:only-of-type {\n",
       "        vertical-align: middle;\n",
       "    }\n",
       "\n",
       "    .dataframe tbody tr th {\n",
       "        vertical-align: top;\n",
       "    }\n",
       "\n",
       "    .dataframe thead th {\n",
       "        text-align: right;\n",
       "    }\n",
       "</style>\n",
       "<table border=\"1\" class=\"dataframe\">\n",
       "  <thead>\n",
       "    <tr style=\"text-align: right;\">\n",
       "      <th></th>\n",
       "      <th>power</th>\n",
       "    </tr>\n",
       "    <tr>\n",
       "      <th>timestamp</th>\n",
       "      <th></th>\n",
       "    </tr>\n",
       "  </thead>\n",
       "  <tbody>\n",
       "    <tr>\n",
       "      <th>2021-02-18 05:28:53+00:00</th>\n",
       "      <td>1.0</td>\n",
       "    </tr>\n",
       "    <tr>\n",
       "      <th>2021-02-18 05:28:54+00:00</th>\n",
       "      <td>1.0</td>\n",
       "    </tr>\n",
       "    <tr>\n",
       "      <th>2021-02-18 05:28:55+00:00</th>\n",
       "      <td>1.0</td>\n",
       "    </tr>\n",
       "    <tr>\n",
       "      <th>2021-02-18 05:28:56+00:00</th>\n",
       "      <td>1.0</td>\n",
       "    </tr>\n",
       "    <tr>\n",
       "      <th>2021-02-18 05:28:57+00:00</th>\n",
       "      <td>1.0</td>\n",
       "    </tr>\n",
       "  </tbody>\n",
       "</table>\n",
       "</div>"
      ],
      "text/plain": [
       "                           power\n",
       "timestamp                       \n",
       "2021-02-18 05:28:53+00:00    1.0\n",
       "2021-02-18 05:28:54+00:00    1.0\n",
       "2021-02-18 05:28:55+00:00    1.0\n",
       "2021-02-18 05:28:56+00:00    1.0\n",
       "2021-02-18 05:28:57+00:00    1.0"
      ]
     },
     "execution_count": 3,
     "metadata": {},
     "output_type": "execute_result"
    }
   ],
   "source": [
    "boiler_data.head()"
   ]
  },
  {
   "cell_type": "markdown",
   "id": "a5db7625-c479-4f7a-82e6-abfa5c592c5f",
   "metadata": {},
   "source": [
    "We can notice that the power consumption is collected every `1s (one second)`\n",
    "\n",
    "We are going to reduce it in two different ways\n",
    "1. we are going to take the power consumption every `15min`. The result will be similar to the power consumption collected every `15min`\n",
    "2. we are going to summarize the power consumption of every `15min` to a single value, the mean. We will obtain the average of the power consumption collected every `15min``"
   ]
  },
  {
   "cell_type": "markdown",
   "id": "2094ffa7-65e9-432d-aa1a-9e69c0091651",
   "metadata": {},
   "source": [
    "## Every `15min`"
   ]
  },
  {
   "cell_type": "markdown",
   "id": "6a3d7f7f-fc41-454e-813a-86964ca5df18",
   "metadata": {},
   "source": [
    "`1min = 60s` so `15min = 60*15s = 900s`\n",
    "\n",
    "We need to extract data every `900 step`"
   ]
  },
  {
   "cell_type": "code",
   "execution_count": 6,
   "id": "62adc4a6-4c89-4369-986a-b84a2f71464d",
   "metadata": {},
   "outputs": [
    {
     "data": {
      "text/html": [
       "<div>\n",
       "<style scoped>\n",
       "    .dataframe tbody tr th:only-of-type {\n",
       "        vertical-align: middle;\n",
       "    }\n",
       "\n",
       "    .dataframe tbody tr th {\n",
       "        vertical-align: top;\n",
       "    }\n",
       "\n",
       "    .dataframe thead th {\n",
       "        text-align: right;\n",
       "    }\n",
       "</style>\n",
       "<table border=\"1\" class=\"dataframe\">\n",
       "  <thead>\n",
       "    <tr style=\"text-align: right;\">\n",
       "      <th></th>\n",
       "      <th>power</th>\n",
       "    </tr>\n",
       "    <tr>\n",
       "      <th>timestamp</th>\n",
       "      <th></th>\n",
       "    </tr>\n",
       "  </thead>\n",
       "  <tbody>\n",
       "    <tr>\n",
       "      <th>2021-02-18 05:28:53+00:00</th>\n",
       "      <td>1.0</td>\n",
       "    </tr>\n",
       "    <tr>\n",
       "      <th>2021-02-18 05:43:53+00:00</th>\n",
       "      <td>1.0</td>\n",
       "    </tr>\n",
       "    <tr>\n",
       "      <th>2021-02-18 05:58:53+00:00</th>\n",
       "      <td>1.0</td>\n",
       "    </tr>\n",
       "    <tr>\n",
       "      <th>2021-02-18 06:13:53+00:00</th>\n",
       "      <td>1.0</td>\n",
       "    </tr>\n",
       "    <tr>\n",
       "      <th>2021-02-18 06:28:53+00:00</th>\n",
       "      <td>1.0</td>\n",
       "    </tr>\n",
       "    <tr>\n",
       "      <th>...</th>\n",
       "      <td>...</td>\n",
       "    </tr>\n",
       "    <tr>\n",
       "      <th>2021-03-20 04:13:53+00:00</th>\n",
       "      <td>1.0</td>\n",
       "    </tr>\n",
       "    <tr>\n",
       "      <th>2021-03-20 04:28:53+00:00</th>\n",
       "      <td>1.0</td>\n",
       "    </tr>\n",
       "    <tr>\n",
       "      <th>2021-03-20 04:43:53+00:00</th>\n",
       "      <td>1.0</td>\n",
       "    </tr>\n",
       "    <tr>\n",
       "      <th>2021-03-20 04:58:53+00:00</th>\n",
       "      <td>1.0</td>\n",
       "    </tr>\n",
       "    <tr>\n",
       "      <th>2021-03-20 05:13:53+00:00</th>\n",
       "      <td>1.0</td>\n",
       "    </tr>\n",
       "  </tbody>\n",
       "</table>\n",
       "<p>2880 rows × 1 columns</p>\n",
       "</div>"
      ],
      "text/plain": [
       "                           power\n",
       "timestamp                       \n",
       "2021-02-18 05:28:53+00:00    1.0\n",
       "2021-02-18 05:43:53+00:00    1.0\n",
       "2021-02-18 05:58:53+00:00    1.0\n",
       "2021-02-18 06:13:53+00:00    1.0\n",
       "2021-02-18 06:28:53+00:00    1.0\n",
       "...                          ...\n",
       "2021-03-20 04:13:53+00:00    1.0\n",
       "2021-03-20 04:28:53+00:00    1.0\n",
       "2021-03-20 04:43:53+00:00    1.0\n",
       "2021-03-20 04:58:53+00:00    1.0\n",
       "2021-03-20 05:13:53+00:00    1.0\n",
       "\n",
       "[2880 rows x 1 columns]"
      ]
     },
     "execution_count": 6,
     "metadata": {},
     "output_type": "execute_result"
    }
   ],
   "source": [
    "boiler_data[::900]"
   ]
  },
  {
   "cell_type": "code",
   "execution_count": 7,
   "id": "d81889c3-4830-4093-9b81-aee3beb72a6d",
   "metadata": {},
   "outputs": [
    {
     "data": {
      "text/html": [
       "<div>\n",
       "<style scoped>\n",
       "    .dataframe tbody tr th:only-of-type {\n",
       "        vertical-align: middle;\n",
       "    }\n",
       "\n",
       "    .dataframe tbody tr th {\n",
       "        vertical-align: top;\n",
       "    }\n",
       "\n",
       "    .dataframe thead th {\n",
       "        text-align: right;\n",
       "    }\n",
       "</style>\n",
       "<table border=\"1\" class=\"dataframe\">\n",
       "  <thead>\n",
       "    <tr style=\"text-align: right;\">\n",
       "      <th></th>\n",
       "      <th>power</th>\n",
       "    </tr>\n",
       "    <tr>\n",
       "      <th>timestamp</th>\n",
       "      <th></th>\n",
       "    </tr>\n",
       "  </thead>\n",
       "  <tbody>\n",
       "    <tr>\n",
       "      <th>2021-02-18 05:28:53+00:00</th>\n",
       "      <td>1.0</td>\n",
       "    </tr>\n",
       "    <tr>\n",
       "      <th>2021-02-18 05:43:53+00:00</th>\n",
       "      <td>1.0</td>\n",
       "    </tr>\n",
       "    <tr>\n",
       "      <th>2021-02-18 05:58:53+00:00</th>\n",
       "      <td>1.0</td>\n",
       "    </tr>\n",
       "    <tr>\n",
       "      <th>2021-02-18 06:13:53+00:00</th>\n",
       "      <td>1.0</td>\n",
       "    </tr>\n",
       "    <tr>\n",
       "      <th>2021-02-18 06:28:53+00:00</th>\n",
       "      <td>1.0</td>\n",
       "    </tr>\n",
       "  </tbody>\n",
       "</table>\n",
       "</div>"
      ],
      "text/plain": [
       "                           power\n",
       "timestamp                       \n",
       "2021-02-18 05:28:53+00:00    1.0\n",
       "2021-02-18 05:43:53+00:00    1.0\n",
       "2021-02-18 05:58:53+00:00    1.0\n",
       "2021-02-18 06:13:53+00:00    1.0\n",
       "2021-02-18 06:28:53+00:00    1.0"
      ]
     },
     "execution_count": 7,
     "metadata": {},
     "output_type": "execute_result"
    }
   ],
   "source": [
    "boiler_15min = boiler_data[::900]\n",
    "boiler_15min.head()"
   ]
  },
  {
   "cell_type": "code",
   "execution_count": 8,
   "id": "bf0325f0-46ba-4d99-93e7-edb9099fe1e9",
   "metadata": {},
   "outputs": [
    {
     "data": {
      "text/plain": [
       "<Axes: ylabel='Frequency'>"
      ]
     },
     "execution_count": 8,
     "metadata": {},
     "output_type": "execute_result"
    },
    {
     "data": {
      "image/png": "[encoded data removed]",
      "text/plain": [
       "<Figure size 640x480 with 1 Axes>"
      ]
     },
     "metadata": {},
     "output_type": "display_data"
    }
   ],
   "source": [
    "boiler_15min.plot(kind='hist')"
   ]
  },
  {
   "cell_type": "code",
   "execution_count": 15,
   "id": "063bbe10-a5d9-4e94-8d2b-79346b0396c5",
   "metadata": {},
   "outputs": [
    {
     "data": {
      "text/plain": [
       "(-2.576, 128.75]     2861\n",
       "(772.5, 901.25]         9\n",
       "(2446.25, 2575.0]       7\n",
       "(1545.0, 1673.75]       1\n",
       "(128.75, 257.5]         1\n",
       "(1673.75, 1802.5]       1\n",
       "(386.25, 515.0]         0\n",
       "(2317.5, 2446.25]       0\n",
       "(2188.75, 2317.5]       0\n",
       "(2060.0, 2188.75]       0\n",
       "(1931.25, 2060.0]       0\n",
       "(1802.5, 1931.25]       0\n",
       "(1416.25, 1545.0]       0\n",
       "(515.0, 643.75]         0\n",
       "(1158.75, 1287.5]       0\n",
       "(1030.0, 1158.75]       0\n",
       "(901.25, 1030.0]        0\n",
       "(257.5, 386.25]         0\n",
       "(643.75, 772.5]         0\n",
       "(1287.5, 1416.25]       0\n",
       "Name: count, dtype: int64"
      ]
     },
     "execution_count": 15,
     "metadata": {},
     "output_type": "execute_result"
    }
   ],
   "source": [
    "boiler_15min[\"power\"].value_counts(bins=20)"
   ]
  },
  {
   "cell_type": "code",
   "execution_count": 9,
   "id": "f7ffa462-9542-460c-874a-b5dad389e638",
   "metadata": {},
   "outputs": [
    {
     "data": {
      "text/plain": [
       "<Axes: ylabel='Frequency'>"
      ]
     },
     "execution_count": 9,
     "metadata": {},
     "output_type": "execute_result"
    },
    {
     "data": {
      "image/png": "[encoded data removed]",
      "text/plain": [
       "<Figure size 640x480 with 1 Axes>"
      ]
     },
     "metadata": {},
     "output_type": "display_data"
    }
   ],
   "source": [
    "boiler_data.plot(kind='hist')"
   ]
  },
  {
   "cell_type": "code",
   "execution_count": 16,
   "id": "e3c31d51-a66d-42c7-8b0d-6f3db3c52c46",
   "metadata": {},
   "outputs": [
    {
     "data": {
      "text/plain": [
       "(-2.665, 133.2]     2573415\n",
       "(799.2, 932.4]         6379\n",
       "(2530.8, 2664.0]       6300\n",
       "(2397.6, 2530.8]       3684\n",
       "(1731.6, 1864.8]        906\n",
       "(1598.4, 1731.6]        542\n",
       "(133.2, 266.4]          314\n",
       "(266.4, 399.6]          171\n",
       "(1465.2, 1598.4]         80\n",
       "(532.8, 666.0]           39\n",
       "(2264.4, 2397.6]         38\n",
       "(1065.6, 1198.8]         34\n",
       "(399.6, 532.8]           29\n",
       "(2131.2, 2264.4]         23\n",
       "(1332.0, 1465.2]         16\n",
       "(1198.8, 1332.0]         12\n",
       "(1998.0, 2131.2]         12\n",
       "(666.0, 799.2]            3\n",
       "(932.4, 1065.6]           2\n",
       "(1864.8, 1998.0]          1\n",
       "Name: count, dtype: int64"
      ]
     },
     "execution_count": 16,
     "metadata": {},
     "output_type": "execute_result"
    }
   ],
   "source": [
    "boiler_data[\"power\"].value_counts(bins=20)"
   ]
  },
  {
   "cell_type": "code",
   "execution_count": 19,
   "id": "8f225eed-ffd3-44db-a10e-dd7993e6aa9e",
   "metadata": {},
   "outputs": [],
   "source": [
    "file_name = 'boiler_226_15min.csv'\n",
    "datasets_path = \"./datasets/simplified/\"\n",
    "full_path = os.path.join(datasets_path, file_name)\n",
    "\n",
    "boiler_15min.to_csv(full_path)"
   ]
  },
  {
   "cell_type": "code",
   "execution_count": 20,
   "id": "0e18dab5-727e-4cb3-a657-92a0944e1dcf",
   "metadata": {},
   "outputs": [
    {
     "name": "stdout",
     "output_type": "stream",
     "text": [
      "                           power\n",
      "timestamp                       \n",
      "2021-01-18 00:51:25+00:00    2.0\n",
      "2021-01-18 01:06:25+00:00    2.0\n",
      "2021-01-18 01:21:25+00:00    3.0\n",
      "2021-01-18 01:36:25+00:00    3.0\n",
      "2021-01-18 01:51:25+00:00    2.0\n"
     ]
    }
   ],
   "source": [
    "file_name = 'dishwasher_53.csv'\n",
    "datasets_path = \"./datasets/raw/\"\n",
    "full_path = os.path.join(datasets_path, file_name)\n",
    "\n",
    "dishwasher_data = pd.read_csv(full_path, parse_dates=True,index_col='timestamp')\n",
    "dishwasher_15min = dishwasher_data[::900]\n",
    "print(dishwasher_15min.head())\n",
    "\n",
    "file_name = 'dishwasher_53_15min.csv'\n",
    "datasets_path = \"./datasets/simplified/\"\n",
    "full_path = os.path.join(datasets_path, file_name)\n",
    "\n",
    "dishwasher_15min.to_csv(full_path)"
   ]
  },
  {
   "cell_type": "code",
   "execution_count": 21,
   "id": "10aa4ee9-f59f-461c-ae65-4b42238dcb3b",
   "metadata": {},
   "outputs": [
    {
     "name": "stdout",
     "output_type": "stream",
     "text": [
      "                           power\n",
      "timestamp                       \n",
      "2020-12-01 06:54:44+00:00    3.0\n",
      "2020-12-01 07:09:44+00:00    3.0\n",
      "2020-12-01 07:24:44+00:00    3.0\n",
      "2020-12-01 07:39:44+00:00    3.0\n",
      "2020-12-01 07:54:44+00:00    3.0\n"
     ]
    }
   ],
   "source": [
    "file_name = 'computer_44.csv'\n",
    "datasets_path = \"./datasets/raw/\"\n",
    "full_path = os.path.join(datasets_path, file_name)\n",
    "\n",
    "computer_data = pd.read_csv(full_path, parse_dates=True,index_col='timestamp')\n",
    "computer_15min = computer_data[::900]\n",
    "print(computer_15min.head())\n",
    "\n",
    "file_name = 'computer_44_15min.csv'\n",
    "datasets_path = \"./datasets/simplified/\"\n",
    "full_path = os.path.join(datasets_path, file_name)\n",
    "\n",
    "computer_15min.to_csv(full_path)"
   ]
  },
  {
   "cell_type": "markdown",
   "id": "7140cda9-8e3a-4418-8d2a-e737b6705cfd",
   "metadata": {},
   "source": [
    "## Reduced `15min` power consumption to a single value"
   ]
  },
  {
   "cell_type": "code",
   "execution_count": null,
   "id": "c0260760-5716-4503-8495-c515cd644d8d",
   "metadata": {},
   "outputs": [],
   "source": []
  }
 ],
 "metadata": {
  "kernelspec": {
   "display_name": "Python 3 (ipykernel)",
   "language": "python",
   "name": "python3"
  },
  "language_info": {
   "codemirror_mode": {
    "name": "ipython",
    "version": 3
   },
   "file_extension": ".py",
   "mimetype": "text/x-python",
   "name": "python",
   "nbconvert_exporter": "python",
   "pygments_lexer": "ipython3",
   "version": "3.11.7"
  }
 },
 "nbformat": 4,
 "nbformat_minor": 5
}
